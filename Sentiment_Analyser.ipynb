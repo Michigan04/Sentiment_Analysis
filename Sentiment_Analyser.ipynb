{
 "cells": [
  {
   "cell_type": "code",
   "execution_count": 6,
   "id": "fdf97ba9",
   "metadata": {},
   "outputs": [
    {
     "name": "stdout",
     "output_type": "stream",
     "text": [
      "Requirement already satisfied: selenium in c:\\users\\anuna\\anaconda3\\lib\\site-packages (4.8.0)\n",
      "Requirement already satisfied: trio~=0.17 in c:\\users\\anuna\\anaconda3\\lib\\site-packages (from selenium) (0.22.0)\n",
      "Requirement already satisfied: certifi>=2021.10.8 in c:\\users\\anuna\\anaconda3\\lib\\site-packages (from selenium) (2022.9.14)\n",
      "Requirement already satisfied: trio-websocket~=0.9 in c:\\users\\anuna\\anaconda3\\lib\\site-packages (from selenium) (0.9.2)\n",
      "Requirement already satisfied: urllib3[socks]~=1.26 in c:\\users\\anuna\\anaconda3\\lib\\site-packages (from selenium) (1.26.11)\n",
      "Requirement already satisfied: outcome in c:\\users\\anuna\\anaconda3\\lib\\site-packages (from trio~=0.17->selenium) (1.2.0)\n",
      "Requirement already satisfied: async-generator>=1.9 in c:\\users\\anuna\\anaconda3\\lib\\site-packages (from trio~=0.17->selenium) (1.10)\n",
      "Requirement already satisfied: idna in c:\\users\\anuna\\anaconda3\\lib\\site-packages (from trio~=0.17->selenium) (3.3)\n",
      "Requirement already satisfied: exceptiongroup>=1.0.0rc9 in c:\\users\\anuna\\anaconda3\\lib\\site-packages (from trio~=0.17->selenium) (1.1.0)\n",
      "Requirement already satisfied: attrs>=19.2.0 in c:\\users\\anuna\\anaconda3\\lib\\site-packages (from trio~=0.17->selenium) (21.4.0)\n",
      "Requirement already satisfied: sniffio in c:\\users\\anuna\\anaconda3\\lib\\site-packages (from trio~=0.17->selenium) (1.2.0)\n",
      "Requirement already satisfied: sortedcontainers in c:\\users\\anuna\\anaconda3\\lib\\site-packages (from trio~=0.17->selenium) (2.4.0)\n",
      "Requirement already satisfied: cffi>=1.14 in c:\\users\\anuna\\anaconda3\\lib\\site-packages (from trio~=0.17->selenium) (1.15.1)\n",
      "Requirement already satisfied: wsproto>=0.14 in c:\\users\\anuna\\anaconda3\\lib\\site-packages (from trio-websocket~=0.9->selenium) (1.2.0)\n",
      "Requirement already satisfied: PySocks!=1.5.7,<2.0,>=1.5.6 in c:\\users\\anuna\\anaconda3\\lib\\site-packages (from urllib3[socks]~=1.26->selenium) (1.7.1)\n",
      "Requirement already satisfied: pycparser in c:\\users\\anuna\\anaconda3\\lib\\site-packages (from cffi>=1.14->trio~=0.17->selenium) (2.21)\n",
      "Requirement already satisfied: h11<1,>=0.9.0 in c:\\users\\anuna\\anaconda3\\lib\\site-packages (from wsproto>=0.14->trio-websocket~=0.9->selenium) (0.14.0)\n",
      "Note: you may need to restart the kernel to use updated packages.\n",
      "Collecting webdriver-manager\n",
      "  Downloading webdriver_manager-3.8.5-py2.py3-none-any.whl (27 kB)\n",
      "Collecting python-dotenv\n",
      "  Downloading python_dotenv-0.21.1-py3-none-any.whl (19 kB)\n",
      "Requirement already satisfied: tqdm in c:\\users\\anuna\\anaconda3\\lib\\site-packages (from webdriver-manager) (4.64.1)\n",
      "Requirement already satisfied: requests in c:\\users\\anuna\\anaconda3\\lib\\site-packages (from webdriver-manager) (2.28.1)\n",
      "Requirement already satisfied: packaging in c:\\users\\anuna\\anaconda3\\lib\\site-packages (from webdriver-manager) (21.3)\n",
      "Requirement already satisfied: pyparsing!=3.0.5,>=2.0.2 in c:\\users\\anuna\\anaconda3\\lib\\site-packages (from packaging->webdriver-manager) (3.0.9)\n",
      "Requirement already satisfied: charset-normalizer<3,>=2 in c:\\users\\anuna\\anaconda3\\lib\\site-packages (from requests->webdriver-manager) (2.0.4)\n",
      "Requirement already satisfied: certifi>=2017.4.17 in c:\\users\\anuna\\anaconda3\\lib\\site-packages (from requests->webdriver-manager) (2022.9.14)\n",
      "Requirement already satisfied: urllib3<1.27,>=1.21.1 in c:\\users\\anuna\\anaconda3\\lib\\site-packages (from requests->webdriver-manager) (1.26.11)\n",
      "Requirement already satisfied: idna<4,>=2.5 in c:\\users\\anuna\\anaconda3\\lib\\site-packages (from requests->webdriver-manager) (3.3)\n",
      "Requirement already satisfied: colorama in c:\\users\\anuna\\anaconda3\\lib\\site-packages (from tqdm->webdriver-manager) (0.4.5)\n",
      "Installing collected packages: python-dotenv, webdriver-manager\n",
      "Successfully installed python-dotenv-0.21.1 webdriver-manager-3.8.5\n",
      "Note: you may need to restart the kernel to use updated packages.\n"
     ]
    }
   ],
   "source": [
    "%pip install selenium\n",
    "%pip install webdriver-manager"
   ]
  },
  {
   "cell_type": "code",
   "execution_count": 7,
   "id": "34be937c-391b-4a7c-a7c3-d55951a848be",
   "metadata": {},
   "outputs": [],
   "source": [
    "import pandas as pd\n",
    "import time\n",
    "from selenium import webdriver\n",
    "from selenium.webdriver.chrome.service import Service\n",
    "from webdriver_manager.chrome import ChromeDriverManager\n",
    "from selenium.webdriver.common.by import By"
   ]
  },
  {
   "cell_type": "code",
   "execution_count": 13,
   "id": "2dacc951-23a5-49ca-937c-c690b03b87ad",
   "metadata": {},
   "outputs": [],
   "source": [
    "driver = webdriver.Chrome(service = Service(ChromeDriverManager().install()))"
   ]
  },
  {
   "cell_type": "code",
   "execution_count": 14,
   "id": "dbaee5a4-2e3f-4c93-a5f2-5fab166fbce9",
   "metadata": {},
   "outputs": [],
   "source": [
    "page_url = \"https://www.youtube.com/watch?v=kffacxfA7G4\"\n",
    "driver.get(page_url)"
   ]
  },
  {
   "cell_type": "code",
   "execution_count": 15,
   "id": "189cba2f-c079-4676-97a2-ddca744b4e8c",
   "metadata": {},
   "outputs": [
    {
     "name": "stdout",
     "output_type": "stream",
     "text": [
      "Ready To Go\n"
     ]
    }
   ],
   "source": [
    "driver.maximize_window()\n",
    "time.sleep(15)\n",
    "print(\"Ready To Go\")"
   ]
  },
  {
   "cell_type": "code",
   "execution_count": 16,
   "id": "b0553407-9e7e-405a-b2fc-53d58ebce2b3",
   "metadata": {},
   "outputs": [],
   "source": [
    "prev_h = 0\n",
    "while True:\n",
    "    height = driver.execute_script(\"\"\"\n",
    "            function getActualHeight() {\n",
    "                return Math.max(\n",
    "                    Math.max(document.body.scrollHeight, document.documentElement.scrollHeight),\n",
    "                    Math.max(document.body.offsetHeight, document.documentElement.offsetHeight),\n",
    "                    Math.max(document.body.clientHeight, document.documentElement.clientHeight)\n",
    "                );\n",
    "            }\n",
    "            return getActualHeight();\n",
    "        \"\"\")\n",
    "    driver.execute_script(f\"window.scrollTo({prev_h},{prev_h + 200})\")\n",
    "    time.sleep(1)\n",
    "    prev_h +=200  \n",
    "    \n",
    "    if prev_h >= height:\n",
    "        break\n",
    "    if height >= 100000:\n",
    "        break"
   ]
  },
  {
   "cell_type": "code",
   "execution_count": 17,
   "id": "6bb4c93d-02ed-4695-b885-ef697743e777",
   "metadata": {
    "tags": []
   },
   "outputs": [],
   "source": [
    "content = driver.find_elements(By.CLASS_NAME, 'style-scope ytd-comment-renderer')\n",
    "\n",
    "comments = []\n",
    "for i in range(len(content)):\n",
    "    comments.append(((content[i].text).split('\\n'))[2])\n",
    "    if i == 100:\n",
    "        break"
   ]
  },
  {
   "cell_type": "code",
   "execution_count": 18,
   "id": "a92fd2a3-1415-4bde-b171-305aa95ce8c6",
   "metadata": {},
   "outputs": [],
   "source": [
    "driver.close()"
   ]
  },
  {
   "cell_type": "code",
   "execution_count": 19,
   "id": "78220f9a-1693-4edc-8eb7-c6a753ac17df",
   "metadata": {},
   "outputs": [],
   "source": [
    "import nltk\n",
    "from nltk.corpus import stopwords\n",
    "from nltk.tokenize import word_tokenize"
   ]
  },
  {
   "cell_type": "code",
   "execution_count": 20,
   "id": "3c47f852-b9d2-4ac3-a590-6270f352f23f",
   "metadata": {},
   "outputs": [],
   "source": [
    "data = pd.read_csv('numbered_dataset_words.csv',usecols= ['sl.no','score','word'])"
   ]
  },
  {
   "cell_type": "code",
   "execution_count": 21,
   "id": "2dff2834",
   "metadata": {},
   "outputs": [],
   "source": [
    "words_dict = {}\n",
    "scores_dict = {}\n",
    "for s,k,v in zip(data['sl.no'],data['word'],data['score']):\n",
    "    words_dict[s] = k\n",
    "    scores_dict[s] = v"
   ]
  },
  {
   "cell_type": "code",
   "execution_count": 22,
   "id": "8f374ced-f825-4e76-ad9d-576bc8158ec4",
   "metadata": {},
   "outputs": [],
   "source": [
    "def keymaker(filtered_sentence):\n",
    "    keystore=[]\n",
    "    for i in filtered_sentence:\n",
    "        if i in words_dict.values():\n",
    "            for key, value in words_dict.items():\n",
    "                if i == value:\n",
    "                    keystore.append(key)\n",
    "    return keystore"
   ]
  },
  {
   "cell_type": "code",
   "execution_count": 23,
   "id": "dd8edd09-0f05-4b3e-8e03-07793c288619",
   "metadata": {},
   "outputs": [],
   "source": [
    "def polarity(filtered_sentence):\n",
    "    polarity=[]\n",
    "    for i in keymaker(filtered_sentence):\n",
    "        polarity.append(scores_dict.get(i))\n",
    "    total=0\n",
    "    for j in polarity:\n",
    "        j=int(j)\n",
    "        total=total + j\n",
    "    return int(total)"
   ]
  },
  {
   "cell_type": "code",
   "execution_count": 24,
   "id": "8f74a834-a061-440e-9030-6933825510a3",
   "metadata": {},
   "outputs": [],
   "source": [
    "polarity_list = []\n",
    "count = 0\n",
    "for i in comments:\n",
    "    stop_words = set(stopwords.words('english'))\n",
    "    wtokens = word_tokenize(i)\n",
    "    fil_sen = []\n",
    "    for w in wtokens:\n",
    "        if w not in stop_words:\n",
    "            fil_sen.append(w)\n",
    "    count +=1 \n",
    "    if count == 100:\n",
    "        break\n",
    "            \n",
    "    p=polarity(fil_sen)\n",
    "    polarity_list.append(p)"
   ]
  },
  {
   "cell_type": "code",
   "execution_count": 25,
   "id": "d3948db8-794d-44d4-8002-8e3ab13339b5",
   "metadata": {
    "tags": []
   },
   "outputs": [],
   "source": [
    "polarity_list\n",
    "\n",
    "net_polarity = 0\n",
    "\n",
    "for i in polarity_list: \n",
    "    net_polarity += i"
   ]
  },
  {
   "cell_type": "code",
   "execution_count": 26,
   "id": "849a6cf8-c28f-41d7-883c-dacddaeda7d8",
   "metadata": {},
   "outputs": [],
   "source": [
    "def senti_analyse(net_polarity):\n",
    "    if net_polarity>=1:\n",
    "        print(\"POSITIVE\")\n",
    "    elif net_polarity<0:\n",
    "        print(\"NEGATIVE\")\n",
    "    else:\n",
    "        print(\"NEUTRAL\")"
   ]
  },
  {
   "cell_type": "code",
   "execution_count": 27,
   "id": "703fe164-54f7-438b-852d-92a1c6c1fcd2",
   "metadata": {},
   "outputs": [
    {
     "name": "stdout",
     "output_type": "stream",
     "text": [
      "POSITIVE\n"
     ]
    }
   ],
   "source": [
    "senti_analyse(net_polarity)"
   ]
  },
  {
   "cell_type": "code",
   "execution_count": 28,
   "id": "db85667a-bb13-41b0-8dd7-2faae9818d1b",
   "metadata": {},
   "outputs": [
    {
     "data": {
      "text/plain": [
       "[1,\n",
       " 0,\n",
       " 0,\n",
       " 0,\n",
       " 0,\n",
       " 0,\n",
       " 0,\n",
       " 1,\n",
       " 0,\n",
       " -5,\n",
       " 0,\n",
       " 4,\n",
       " 0,\n",
       " 0,\n",
       " 0,\n",
       " 0,\n",
       " 0,\n",
       " 0,\n",
       " 0,\n",
       " 1,\n",
       " 0,\n",
       " 0,\n",
       " 0,\n",
       " 0,\n",
       " 0,\n",
       " 0,\n",
       " 0,\n",
       " 4,\n",
       " 0,\n",
       " 0,\n",
       " 0,\n",
       " 0,\n",
       " 0,\n",
       " 0,\n",
       " 0,\n",
       " 0,\n",
       " 0,\n",
       " 0,\n",
       " 0,\n",
       " 0,\n",
       " 0,\n",
       " -1,\n",
       " 1,\n",
       " 0,\n",
       " 0,\n",
       " 0,\n",
       " 2,\n",
       " 0,\n",
       " 0,\n",
       " 0,\n",
       " 0,\n",
       " 0,\n",
       " 1,\n",
       " 0,\n",
       " 0,\n",
       " 0,\n",
       " 0,\n",
       " 0,\n",
       " 1,\n",
       " 0,\n",
       " 0,\n",
       " 0,\n",
       " 0,\n",
       " 0,\n",
       " 4,\n",
       " 0,\n",
       " 0,\n",
       " 0,\n",
       " 0,\n",
       " 1,\n",
       " 0,\n",
       " 0,\n",
       " 0,\n",
       " 3,\n",
       " 0,\n",
       " 0,\n",
       " -1,\n",
       " 0,\n",
       " 0,\n",
       " 0]"
      ]
     },
     "execution_count": 28,
     "metadata": {},
     "output_type": "execute_result"
    }
   ],
   "source": [
    "polarity_list"
   ]
  },
  {
   "cell_type": "code",
   "execution_count": null,
   "id": "31c4a3c7",
   "metadata": {},
   "outputs": [],
   "source": []
  }
 ],
 "metadata": {
  "kernelspec": {
   "display_name": "Python 3 (ipykernel)",
   "language": "python",
   "name": "python3"
  },
  "language_info": {
   "codemirror_mode": {
    "name": "ipython",
    "version": 3
   },
   "file_extension": ".py",
   "mimetype": "text/x-python",
   "name": "python",
   "nbconvert_exporter": "python",
   "pygments_lexer": "ipython3",
   "version": "3.9.13"
  }
 },
 "nbformat": 4,
 "nbformat_minor": 5
}
